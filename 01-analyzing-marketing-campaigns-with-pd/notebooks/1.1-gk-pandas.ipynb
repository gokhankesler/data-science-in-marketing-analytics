{
 "cells": [
  {
   "cell_type": "markdown",
   "metadata": {},
   "source": [
    "### 1. Importing data using pandas\n",
    "To use pandas, first import pandas using the alias pd. To import a CSV file, you can use the ```read_csv()``` function and pass the name of the file you want to import."
   ]
  },
  {
   "cell_type": "code",
   "execution_count": 3,
   "metadata": {},
   "outputs": [],
   "source": [
    "# Import pandas into the environment\n",
    "import pandas as pd\n",
    "\n",
    "# Import marketing.csv \n",
    "marketing = pd.read_csv('../data/marketing1.csv')"
   ]
  },
  {
   "cell_type": "markdown",
   "metadata": {},
   "source": [
    "### 2. Inspecting data\n",
    "Once you've imported your data, it is a good practice to examine its contents using the ```head()``` method. This will return the first five rows of the DataFrame."
   ]
  },
  {
   "cell_type": "code",
   "execution_count": 4,
   "metadata": {},
   "outputs": [
    {
     "name": "stdout",
     "output_type": "stream",
     "text": [
      "      user_id date_served marketing_channel          variant converted  \\\n",
      "0  a100000029      1/1/18         House Ads  personalization      True   \n",
      "1  a100000030      1/1/18         House Ads  personalization      True   \n",
      "2  a100000031      1/1/18         House Ads  personalization      True   \n",
      "3  a100000032      1/1/18         House Ads  personalization      True   \n",
      "4  a100000033      1/1/18         House Ads  personalization      True   \n",
      "\n",
      "  language_displayed language_preferred    age_group date_subscribed  \\\n",
      "0            English            English   0-18 years          1/1/18   \n",
      "1            English            English  19-24 years          1/1/18   \n",
      "2            English            English  24-30 years          1/1/18   \n",
      "3            English            English  30-36 years          1/1/18   \n",
      "4            English            English  36-45 years          1/1/18   \n",
      "\n",
      "  date_canceled subscribing_channel is_retained  \n",
      "0           NaN           House Ads        True  \n",
      "1           NaN           House Ads        True  \n",
      "2           NaN           House Ads        True  \n",
      "3           NaN           House Ads        True  \n",
      "4           NaN           House Ads        True  \n"
     ]
    }
   ],
   "source": [
    "# Print the first five rows of the DataFrame\n",
    "print(marketing.head())"
   ]
  },
  {
   "cell_type": "markdown",
   "metadata": {},
   "source": [
    "### 3. Summary statistics\n",
    "Use the ```describe()``` method to print the statistics of all columns in your dataset. You can inspect the output to find some obvious errors. For example, if you see negative values in a date column, this might indicate an error. In addition, pay careful attention to the minimum and maximum values. If the maximum is much larger than the median, it might be an outlier and merit further investigation."
   ]
  },
  {
   "cell_type": "code",
   "execution_count": 5,
   "metadata": {},
   "outputs": [
    {
     "name": "stdout",
     "output_type": "stream",
     "text": [
      "           user_id date_served marketing_channel  variant converted  \\\n",
      "count        10037       10021             10022    10037     10022   \n",
      "unique        7309          31                 5        2         2   \n",
      "top     a100000882     1/15/18         House Ads  control     False   \n",
      "freq            12         789              4733     5091      8946   \n",
      "\n",
      "       language_displayed language_preferred    age_group date_subscribed  \\\n",
      "count               10037              10037        10037            1856   \n",
      "unique                  4                  4            7              31   \n",
      "top               English            English  19-24 years         1/16/18   \n",
      "freq                 9793               9275         1682             163   \n",
      "\n",
      "       date_canceled subscribing_channel is_retained  \n",
      "count            577                1856        1856  \n",
      "unique           115                   5           2  \n",
      "top           4/2/18           Instagram        True  \n",
      "freq              15                 600        1279  \n"
     ]
    }
   ],
   "source": [
    "# Print the statistics of all columns\n",
    "print(marketing.describe())"
   ]
  },
  {
   "cell_type": "markdown",
   "metadata": {},
   "source": [
    "### 4. Missing values & data types\n",
    "Finally, you can identify the data types and the number of non-missing values in your DataFrame using the ```info()``` method. The result includes all columns and their data types."
   ]
  },
  {
   "cell_type": "code",
   "execution_count": 6,
   "metadata": {},
   "outputs": [
    {
     "name": "stdout",
     "output_type": "stream",
     "text": [
      "<class 'pandas.core.frame.DataFrame'>\n",
      "RangeIndex: 10037 entries, 0 to 10036\n",
      "Data columns (total 12 columns):\n",
      " #   Column               Non-Null Count  Dtype \n",
      "---  ------               --------------  ----- \n",
      " 0   user_id              10037 non-null  object\n",
      " 1   date_served          10021 non-null  object\n",
      " 2   marketing_channel    10022 non-null  object\n",
      " 3   variant              10037 non-null  object\n",
      " 4   converted            10022 non-null  object\n",
      " 5   language_displayed   10037 non-null  object\n",
      " 6   language_preferred   10037 non-null  object\n",
      " 7   age_group            10037 non-null  object\n",
      " 8   date_subscribed      1856 non-null   object\n",
      " 9   date_canceled        577 non-null    object\n",
      " 10  subscribing_channel  1856 non-null   object\n",
      " 11  is_retained          1856 non-null   object\n",
      "dtypes: object(12)\n",
      "memory usage: 941.1+ KB\n",
      "None\n"
     ]
    }
   ],
   "source": [
    "# Check column data types and non-missing values\n",
    "print(marketing.info())"
   ]
  },
  {
   "cell_type": "markdown",
   "metadata": {},
   "source": [
    "### 5. Common data types\n",
    "Each column in a pandas DataFrame has a specific data type. Some of the common data types are strings (which are represented as objects), numbers, boolean values (which are True/False) and dates. You can use the ```dtype``` attribute if you are interested in knowing the data type of a single column."
   ]
  },
  {
   "cell_type": "code",
   "execution_count": 7,
   "metadata": {},
   "outputs": [
    {
     "name": "stdout",
     "output_type": "stream",
     "text": [
      "object\n"
     ]
    }
   ],
   "source": [
    "# Check the data type of is_retained\n",
    "print(marketing['is_retained'].dtype)"
   ]
  },
  {
   "cell_type": "markdown",
   "metadata": {},
   "source": [
    "### 6. Changing the data type of a column\n",
    "To change the data type of a column, you can use the ```astype()``` method. For example, you saw on the earlier slide that the converted column is stored as an object. It contains True and False values, so it's more appropriate to store it as a boolean. You can use the ```astype()``` method along with the argument 'bool' as shown here to change its data type. If you check the data type of the 'converted' column again, you will see that it's now 'bool'."
   ]
  },
  {
   "cell_type": "code",
   "execution_count": 8,
   "metadata": {},
   "outputs": [
    {
     "name": "stdout",
     "output_type": "stream",
     "text": [
      "bool\n"
     ]
    }
   ],
   "source": [
    "# Convert is_retained to a boolean\n",
    "marketing['is_retained'] = marketing['is_retained'].astype('bool')\n",
    "\n",
    "# Check the data type of is_retained, again\n",
    "print(marketing['is_retained'].dtype)"
   ]
  },
  {
   "cell_type": "markdown",
   "metadata": {},
   "source": [
    "### 7. Mapping values to existing columns\n",
    "Due to the way pandas stores data, in a large dataset, it can be computationally inefficient to store columns of strings. In such cases, it can speed things up to instead store these values as numbers. To create a column with channel codes, build a dictionary that maps the channels to numerical codes. Then, use the ```map()``` method on the channel column along with this dictionary, as shown here."
   ]
  },
  {
   "cell_type": "code",
   "execution_count": 9,
   "metadata": {},
   "outputs": [],
   "source": [
    "# Mapping for channels\n",
    "channel_dict = {\"House Ads\": 1, \"Instagram\": 2, \n",
    "                \"Facebook\": 3, \"Email\": 4, \"Push\": 5}\n",
    "\n",
    "# Map the channel to a channel code\n",
    "marketing['channel_code'] = marketing['subscribing_channel'].map(channel_dict)"
   ]
  },
  {
   "cell_type": "markdown",
   "metadata": {},
   "source": [
    "### 8. Creating new boolean columns\n",
    "The marketing_channel column captures the channel a user saw a marketing asset on. Say you want to have a column that identifies if a particular marketing asset was a house ad or not. You can use numpy's ```where()``` function to create a new boolean column to establish this. The first argument is an expression that checks whether the value in the marketing_channel column is 'House Ads', the second argument is the value you want to assign if the expression is true, and the third argument is the value you want to assign if the expression is false."
   ]
  },
  {
   "cell_type": "code",
   "execution_count": 11,
   "metadata": {},
   "outputs": [],
   "source": [
    "# Mapping for channels\n",
    "channel_dict = {\"House Ads\": 1, \"Instagram\": 2, \n",
    "                \"Facebook\": 3, \"Email\": 4, \"Push\": 5}\n",
    "\n",
    "# Map the channel to a channel code\n",
    "marketing['channel_code'] = marketing['subscribing_channel'].map(channel_dict)\n",
    "\n",
    "# Import numpy\n",
    "import numpy as np\n",
    "\n",
    "# Add the new column is_correct_lang\n",
    "marketing['is_correct_lang'] = np.where(\n",
    "    marketing['language_preferred'] == marketing['language_displayed'], \n",
    "    'Yes', \n",
    "    'No'\n",
    ")"
   ]
  },
  {
   "cell_type": "markdown",
   "metadata": {},
   "source": [
    "### 9. Date columns\n",
    "Often, you will have date columns that are improperly read as objects by pandas. However, as you will see in the following lessons, having date columns properly imported as the datetime datatype has several advantages. You have two options to ensure that certain columns are treated as dates. First, when importing the dataset using the ```read_csv()``` function, you can pass a list of column names to the ```parse_dates``` argument to ensure that these columns are correctly interpreted as date columns."
   ]
  },
  {
   "cell_type": "code",
   "execution_count": 13,
   "metadata": {},
   "outputs": [],
   "source": [
    "# Import marketing.csv with date columns\n",
    "marketing = pd.read_csv('../data/marketing1.csv', \n",
    "                        parse_dates = ['date_served', 'date_subscribed', 'date_canceled'])\n",
    "\n",
    "# Add a DoW column\n",
    "marketing['DoW'] = marketing['date_subscribed'].dt.dayofweek"
   ]
  },
  {
   "cell_type": "code",
   "execution_count": null,
   "metadata": {},
   "outputs": [],
   "source": []
  }
 ],
 "metadata": {
  "interpreter": {
   "hash": "5e3db554a0849e74cf3e35b1b02075850be1d919fe58c997cc3bc074a6611193"
  },
  "kernelspec": {
   "display_name": "Python 3.8.9 ('.venv': venv)",
   "language": "python",
   "name": "python3"
  },
  "language_info": {
   "codemirror_mode": {
    "name": "ipython",
    "version": 3
   },
   "file_extension": ".py",
   "mimetype": "text/x-python",
   "name": "python",
   "nbconvert_exporter": "python",
   "pygments_lexer": "ipython3",
   "version": "3.8.9"
  },
  "orig_nbformat": 4
 },
 "nbformat": 4,
 "nbformat_minor": 2
}
