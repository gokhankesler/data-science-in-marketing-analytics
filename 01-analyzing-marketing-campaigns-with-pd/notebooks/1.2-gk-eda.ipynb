{
 "cells": [
  {
   "cell_type": "markdown",
   "metadata": {},
   "source": [
    "\n",
    "# Exploratory Analysis & Summary Statistics\n",
    "### 1. Marketing Metrics"
   ]
  },
  {
   "cell_type": "code",
   "execution_count": 39,
   "metadata": {},
   "outputs": [],
   "source": [
    "# Import pandas into the environment\n",
    "import pandas as pd\n",
    "\n",
    "# Import marketing.csv with date columns\n",
    "marketing = pd.read_csv('../data/marketing2.csv', \n",
    "                        parse_dates = ['date_served', 'date_subscribed', 'date_canceled'])\n",
    "\n",
    "# Add a DoW column\n",
    "marketing.head()\n",
    "marketing = marketing.dropna(subset=['converted'])"
   ]
  },
  {
   "cell_type": "markdown",
   "metadata": {},
   "source": [
    "\n",
    "### 1.1. Calculating conversion rate using pandas\n",
    "To calculate the total number of people who converted, we slice the DataFrame to include only the rows where \"converted\" equals True and then count the unique user_ids using ```nunique()```. Next, we calculate the total number of people we marketed to. We can do this by counting all the unique user IDs in our dataset. Now that we have the total number of users and users who subscribed, we can calculate conversion rate by dividing subscribers by total.\n"
   ]
  },
  {
   "cell_type": "code",
   "execution_count": 40,
   "metadata": {},
   "outputs": [
    {
     "name": "stdout",
     "output_type": "stream",
     "text": [
      "14.09 %\n"
     ]
    }
   ],
   "source": [
    "# Calculate the number of people we marketed to\n",
    "total = marketing['user_id'].nunique()\n",
    "\n",
    "# Calculate the number of people who subscribed\n",
    "subscribers = marketing[(marketing['converted']) & (~marketing['converted'].isna())]['user_id'].nunique()\n",
    "\n",
    "# Calculate the conversion rate\n",
    "conversion_rate = subscribers / total\n",
    "print(round(conversion_rate*100, 2), \"%\")"
   ]
  },
  {
   "cell_type": "markdown",
   "metadata": {},
   "source": [
    "\n",
    "### 1.2. Calculating retention rate\n",
    "To determine retention rate, we first calculate the total number of users who remain subscribers after one month. This information is available in the column \"is_retained\". We now slice the DataFrame to include only rows where the user was retained, that is, where is_retained equals True and count the unique user_ids. We can reuse our \"subscribers\" calculation from the conversion rate calculation, as the number of total users who originally subscribed remains the same. Finally, we divide the number of users who were retained by the number of users who subscribed to calculate the retention rate."
   ]
  },
  {
   "cell_type": "code",
   "execution_count": 41,
   "metadata": {},
   "outputs": [
    {
     "name": "stdout",
     "output_type": "stream",
     "text": [
      "676.41 %\n"
     ]
    }
   ],
   "source": [
    "# Calculate the number of subscribers\n",
    "total_subscribers = marketing[(marketing['converted']) & (~marketing['converted'].isna())]['user_id'].nunique()\n",
    "\n",
    "# Calculate the number of people who remained subscribed\n",
    "retained = marketing[(marketing['is_retained']) & (~marketing['is_retained'].isna())]['user_id'].nunique()\n",
    "\n",
    "# Calculate the retention rate\n",
    "retention_rate = retained / total_subscribers\n",
    "print(round(retention_rate*100, 2), \"%\")"
   ]
  },
  {
   "cell_type": "markdown",
   "metadata": {},
   "source": [
    "# 2. Customer Segmentation\n",
    "One way to segment is by subscribing channel. Let's check the retention rate for users who converted by clicking on a House Ad. To do this, we first subset the DataFrame to include data only for House Ads, that is, where subscribing_channel equals House Ads. Using the house_ads DataFrame, you can calculate retention rate like before, dividing the total number of users retained by the number of subscribers who originally subscribed through a House Ad. That's great! But how do you know if this retention rate is good or bad? Ideally, you will compare retention rates across all channels to determine whether some channels perform better than others.\n",
    "\n",
    "\n",
    "\n",
    "**Segmenting using pandas - ```groupby()```**\n",
    "This is when the flexibility of pandas comes in handy! You can use the ```groupby()``` method to analyze and calculate statistics for multiple sub-segments in your data. Here we first subset the data to include only the customers who were retained and then group by subscribing_channel. Then, we count the number of unique user ids to find the total number of retained customers per channel. Segmenting using pandas - ```groupby()``` Similarly, we subset the data to include the customers who subscribed, group by subscribing_channel and count the number of unique user ids to find the total number of subscribers for each channel."
   ]
  },
  {
   "cell_type": "code",
   "execution_count": 42,
   "metadata": {},
   "outputs": [
    {
     "data": {
      "text/plain": [
       "array(['House Ads', 'Push', 'Facebook', 'Instagram', 'Email', nan],\n",
       "      dtype=object)"
      ]
     },
     "execution_count": 42,
     "metadata": {},
     "output_type": "execute_result"
    }
   ],
   "source": [
    "marketing.marketing_channel.unique()"
   ]
  },
  {
   "cell_type": "code",
   "execution_count": 43,
   "metadata": {},
   "outputs": [
    {
     "name": "stdout",
     "output_type": "stream",
     "text": [
      "English speaker conversion rate: 13.13 %\n"
     ]
    }
   ],
   "source": [
    "# Isolate english speakers\n",
    "english_speakers = marketing[marketing['language_displayed'] == 'English']\n",
    "\n",
    "# Calculate the total number of English speaking users\n",
    "total = english_speakers['user_id'].nunique()\n",
    "\n",
    "# Calculate the number of English speakers who converted\n",
    "subscribers = english_speakers[english_speakers['converted']]['user_id'].nunique()\n",
    "\n",
    "# Calculate conversion rate\n",
    "conversion_rate = subscribers/total\n",
    "print('English speaker conversion rate:', round(conversion_rate*100,2), '%')"
   ]
  },
  {
   "cell_type": "markdown",
   "metadata": {},
   "source": [
    "**Comparing language conversion rate**\n",
    "\n",
    "Next, you want to look at the conversion rate by the language that the marketing asset was shown in. While many of your users speak English, some prefer another language. Let's check to make sure marketing material translated well across languages.\n",
    "\n",
    "You can analyze metrics by specific demographics using .groupby(). Rather than looking at the overall conversion rate in the dataset, you instead group by language preference, which allows you to determine whether the marketing campaign was more effective in certain languages."
   ]
  },
  {
   "cell_type": "code",
   "execution_count": 44,
   "metadata": {},
   "outputs": [
    {
     "name": "stdout",
     "output_type": "stream",
     "text": [
      "language_displayed\n",
      "Arabic     0.500000\n",
      "English    0.131260\n",
      "German     0.716216\n",
      "Spanish    0.200000\n",
      "Name: user_id, dtype: float64\n"
     ]
    }
   ],
   "source": [
    "# Group by language_displayed and count unique users\n",
    "total = marketing.groupby('language_displayed')['user_id'].nunique()\n",
    "\n",
    "# Group by language_displayed and count unique conversions\n",
    "subscribers = marketing[marketing['converted']].groupby('language_displayed')['user_id'].nunique()\n",
    "\n",
    "# Calculate the conversion rate for all languages\n",
    "language_conversion_rate = subscribers / total\n",
    "print(language_conversion_rate)"
   ]
  },
  {
   "cell_type": "markdown",
   "metadata": {},
   "source": [
    "**Aggregating by date**\n",
    "\n",
    "The marketing team wants to know whether there is any difference in the conversion rate based on when in the month, your users saw an ad. In this exercise, you will practice ```.groupby()``` again, this time looking at how metrics have evolved."
   ]
  },
  {
   "cell_type": "code",
   "execution_count": 45,
   "metadata": {},
   "outputs": [
    {
     "name": "stdout",
     "output_type": "stream",
     "text": [
      "date_served\n",
      "2018-01-01    0.099448\n",
      "2018-01-02    0.098930\n",
      "2018-01-03    0.103448\n",
      "2018-01-04    0.108359\n",
      "2018-01-05    0.125392\n",
      "Name: user_id, dtype: float64\n"
     ]
    }
   ],
   "source": [
    "# Group by date_served and count unique users\n",
    "total = marketing.groupby('date_served')['user_id'].nunique()\n",
    "\n",
    "# Group by date_served and count unique converted users\n",
    "subscribers = marketing[marketing['converted']].groupby('date_served')['user_id'].nunique()\n",
    "\n",
    "# Calculate the conversion rate per day\n",
    "daily_conversion_rate = subscribers/total\n",
    "print(daily_conversion_rate.head())"
   ]
  },
  {
   "cell_type": "markdown",
   "metadata": {},
   "source": [
    "# 3. Plotting campaign results\n",
    "Now that you've practiced aggregating and segmenting the results, it's time to learn how best to visualize these results in order to increase ease of interpretability, especially for people on our team who might be less comfortable with data.\n",
    "\n",
    "**Comparing language conversion rates**\n",
    "\n",
    "Let's use the language_conversion_rate series you created in the previous lesson. First, we'll ```import matplotlib.pyplot as plt```. Next, we call the ```plot()``` method on language_conversion_rate and specify the kind argument as bar indicating that we want to create a bar chart. Bar charts enable us to visually compare the conversion rates. Next, we add a title and axis labels to this plot. Finally, we show the plot using ```plt.show()```.\n"
   ]
  },
  {
   "cell_type": "code",
   "execution_count": 46,
   "metadata": {},
   "outputs": [
    {
     "data": {
      "image/png": "[encoded data removed]",
      "text/plain": [
       "<Figure size 432x288 with 1 Axes>"
      ]
     },
     "metadata": {
      "needs_background": "light"
     },
     "output_type": "display_data"
    }
   ],
   "source": [
    "import matplotlib.pyplot as plt\n",
    "# Create a bar chart using language_conversion_rate DataFrame\n",
    "language_conversion_rate.plot(kind='bar')\n",
    "\n",
    "# Add a title and x and y-axis labels\n",
    "plt.title('Conversion rate by language', size = 14)\n",
    "plt.xlabel('Language', size = 14)\n",
    "plt.ylabel('Conversion rate (%)', size = 14)\n",
    "\n",
    "# Display the plot\n",
    "plt.show()"
   ]
  },
  {
   "cell_type": "markdown",
   "metadata": {},
   "source": [
    "**Creating daily conversion rate DataFrame**\n",
    "\n",
    "To understand trends over time, you will create a new DataFrame that includes the conversion rate each day. You will follow essentially the same steps as before when you calculated the overall conversion rate, this time also grouping by the date a user subscribed.\n",
    "\n",
    "Looking at the daily conversion rate is crucial to contextualize whether the conversion rate on a particular day was good or bad. Additionally, looking at conversion rate over time can help to surface trends such as a conversion rate that appears to be going down over time. These kinds of trends are crucial to identify for your marketing stakeholders as early as possible."
   ]
  },
  {
   "cell_type": "code",
   "execution_count": 50,
   "metadata": {},
   "outputs": [
    {
     "data": {
      "text/plain": [
       "date_served\n",
       "2018-01-01    0.099448\n",
       "2018-01-02    0.098930\n",
       "2018-01-03    0.103448\n",
       "2018-01-04    0.108359\n",
       "2018-01-05    0.125392\n",
       "Name: user_id, dtype: float64"
      ]
     },
     "execution_count": 50,
     "metadata": {},
     "output_type": "execute_result"
    }
   ],
   "source": [
    "# Group by date_served and count unique users\n",
    "total = marketing.groupby(['date_served'])['user_id'].nunique()\n",
    "\n",
    "# Group by date_served and calculate subscribers\n",
    "subscribers = marketing[marketing['converted']].groupby(['date_served'])['user_id'].nunique()\n",
    "\n",
    "# Calculate the conversion rate for all languages\n",
    "daily_conversion_rates = subscribers/total\n",
    "daily_conversion_rates.head()"
   ]
  },
  {
   "cell_type": "markdown",
   "metadata": {},
   "source": [
    "**Setting up our data to visualize daily conversion**\n",
    "\n",
    "When you want to understand how your campaign performed, it is essential to look at how key metrics changed throughout the campaign. Your key metrics can help you catch problems that may have happened during the campaign, such as a bug in the checkout system that led to a dip in conversion toward the end of your campaign. Metrics over time can also surface trends like gaining more subscribers over the weekends or on specific holidays.\n",
    "\n",
    "In this exercise, you will build upon the daily conversion rate Series ```daily_conversion_rates``` you built in a previous exercise. Before you can begin visualizing, you need to transform your data into an easier format to use with ```pandas``` and ```matplotlib```."
   ]
  },
  {
   "cell_type": "code",
   "execution_count": 51,
   "metadata": {},
   "outputs": [
    {
     "data": {
      "text/html": [
       "<div>\n",
       "<style scoped>\n",
       "    .dataframe tbody tr th:only-of-type {\n",
       "        vertical-align: middle;\n",
       "    }\n",
       "\n",
       "    .dataframe tbody tr th {\n",
       "        vertical-align: top;\n",
       "    }\n",
       "\n",
       "    .dataframe thead th {\n",
       "        text-align: right;\n",
       "    }\n",
       "</style>\n",
       "<table border=\"1\" class=\"dataframe\">\n",
       "  <thead>\n",
       "    <tr style=\"text-align: right;\">\n",
       "      <th></th>\n",
       "      <th>date_subscribed</th>\n",
       "      <th>conversion_rate</th>\n",
       "    </tr>\n",
       "  </thead>\n",
       "  <tbody>\n",
       "    <tr>\n",
       "      <th>0</th>\n",
       "      <td>2018-01-01</td>\n",
       "      <td>0.099448</td>\n",
       "    </tr>\n",
       "    <tr>\n",
       "      <th>1</th>\n",
       "      <td>2018-01-02</td>\n",
       "      <td>0.098930</td>\n",
       "    </tr>\n",
       "    <tr>\n",
       "      <th>2</th>\n",
       "      <td>2018-01-03</td>\n",
       "      <td>0.103448</td>\n",
       "    </tr>\n",
       "    <tr>\n",
       "      <th>3</th>\n",
       "      <td>2018-01-04</td>\n",
       "      <td>0.108359</td>\n",
       "    </tr>\n",
       "    <tr>\n",
       "      <th>4</th>\n",
       "      <td>2018-01-05</td>\n",
       "      <td>0.125392</td>\n",
       "    </tr>\n",
       "  </tbody>\n",
       "</table>\n",
       "</div>"
      ],
      "text/plain": [
       "  date_subscribed  conversion_rate\n",
       "0      2018-01-01         0.099448\n",
       "1      2018-01-02         0.098930\n",
       "2      2018-01-03         0.103448\n",
       "3      2018-01-04         0.108359\n",
       "4      2018-01-05         0.125392"
      ]
     },
     "execution_count": 51,
     "metadata": {},
     "output_type": "execute_result"
    }
   ],
   "source": [
    "# Reset index to turn the results into a DataFrame\n",
    "daily_conversion_rate = daily_conversion_rates.reset_index()\n",
    "\n",
    "# Rename columns\n",
    "daily_conversion_rate.columns = ['date_subscribed', \n",
    "                              'conversion_rate']\n",
    "\n",
    "daily_conversion_rate.head()"
   ]
  },
  {
   "cell_type": "markdown",
   "metadata": {},
   "source": [
    "**Visualize daily conversion rate**\n",
    "\n",
    "Now that your formatted the data into a more manageable format for visualization, you will proceed to create a line chart. Strong visualization skills are crucial for a data scientist because it will allow you and your marketing stakeholders to derive deeper insights from the data. In this case, creating a line plot will make it much easier to notice peaks and valleys in our conversion rate over time as well as any overall trends."
   ]
  },
  {
   "cell_type": "code",
   "execution_count": 52,
   "metadata": {},
   "outputs": [
    {
     "data": {
      "image/png": "[encoded data removed]",
      "text/plain": [
       "<Figure size 432x288 with 1 Axes>"
      ]
     },
     "metadata": {
      "needs_background": "light"
     },
     "output_type": "display_data"
    }
   ],
   "source": [
    "# Create a line chart using daily_conversion_rate DataFrame\n",
    "daily_conversion_rate.plot('date_subscribed', \n",
    "                           'conversion_rate')\n",
    "\n",
    "plt.title('Daily conversion rate\\n', size = 16)\n",
    "plt.ylabel('Conversion rate (%)', size = 14)\n",
    "plt.xlabel('Date', size = 14)\n",
    "\n",
    "# Set the y-axis to begin at 0\n",
    "plt.ylim(0)\n",
    "\n",
    "# Display the plot\n",
    "plt.show()"
   ]
  },
  {
   "cell_type": "code",
   "execution_count": null,
   "metadata": {},
   "outputs": [],
   "source": []
  }
 ],
 "metadata": {
  "interpreter": {
   "hash": "5e3db554a0849e74cf3e35b1b02075850be1d919fe58c997cc3bc074a6611193"
  },
  "kernelspec": {
   "display_name": "Python 3.8.9 ('.venv': venv)",
   "language": "python",
   "name": "python3"
  },
  "language_info": {
   "codemirror_mode": {
    "name": "ipython",
    "version": 3
   },
   "file_extension": ".py",
   "mimetype": "text/x-python",
   "name": "python",
   "nbconvert_exporter": "python",
   "pygments_lexer": "ipython3",
   "version": "3.8.9"
  },
  "orig_nbformat": 4
 },
 "nbformat": 4,
 "nbformat_minor": 2
}
